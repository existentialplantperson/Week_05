{
 "cells": [
  {
   "cell_type": "markdown",
   "id": "229b2e6b",
   "metadata": {},
   "source": [
    "Angela Spencer - Week 05 - In Class Assignment"
   ]
  },
  {
   "cell_type": "raw",
   "id": "320b0948",
   "metadata": {},
   "source": [
    "1. Make a function that can take any non-negative integer as an argument and return it with its\n",
    "digits in descending order. Essentially, rearrange the digits to create the highest possible\n",
    "number. If no number is passed in, make the default value inputted = 111111.\n",
    "Input = 43905 Output = 95430\n",
    "Input = 584366 Output = 866543"
   ]
  },
  {
   "cell_type": "code",
   "execution_count": null,
   "id": "7c276b01",
   "metadata": {},
   "outputs": [],
   "source": []
  },
  {
   "cell_type": "raw",
   "id": "9acf177d",
   "metadata": {},
   "source": [
    "2. Import jeopardy.csv and create a dataframe from the data. Find out the following:\n",
    "a. How many rows are there in the dataframe? What does a row represent?\n",
    "b. How many unique shows were there each year?\n",
    "c. Think of another question that this data can help answer. Make that question a\n",
    "header in your notebook.\n",
    "d. Answer your question and show the steps you used to do so clearly."
   ]
  },
  {
   "cell_type": "code",
   "execution_count": null,
   "id": "fd34f6b1",
   "metadata": {},
   "outputs": [],
   "source": []
  },
  {
   "cell_type": "raw",
   "id": "289b35d1",
   "metadata": {},
   "source": [
    "3. Create any graph using matplotlib that helps you understand the jeopardy data. Explain what\n",
    "your graph shows and why it is useful."
   ]
  },
  {
   "cell_type": "code",
   "execution_count": null,
   "id": "fa6e58a6",
   "metadata": {},
   "outputs": [],
   "source": []
  }
 ],
 "metadata": {
  "kernelspec": {
   "display_name": "Python 3 (ipykernel)",
   "language": "python",
   "name": "python3"
  },
  "language_info": {
   "codemirror_mode": {
    "name": "ipython",
    "version": 3
   },
   "file_extension": ".py",
   "mimetype": "text/x-python",
   "name": "python",
   "nbconvert_exporter": "python",
   "pygments_lexer": "ipython3",
   "version": "3.9.7"
  }
 },
 "nbformat": 4,
 "nbformat_minor": 5
}
