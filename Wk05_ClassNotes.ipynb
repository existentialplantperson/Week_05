{
 "cells": [
  {
   "cell_type": "code",
   "execution_count": 3,
   "id": "9dc5e729",
   "metadata": {},
   "outputs": [],
   "source": [
    "#import a variable name api_key\n",
    "#the file is called api_keys, interpreter assumes its a .py file\n",
    "\n",
    "from api_keys import api_key\n",
    "\n",
    "#print(api_key)"
   ]
  },
  {
   "cell_type": "code",
   "execution_count": 4,
   "id": "53346b15",
   "metadata": {},
   "outputs": [
    {
     "name": "stdout",
     "output_type": "stream",
     "text": [
      "<!doctype html>\n",
      "<html>\n",
      "<head>\n",
      "    <title>Example Domain</title>\n",
      "\n",
      "    <meta charset=\"utf-8\" />\n",
      "    <meta http-equiv=\"Content-type\" content=\"text/html; charset=utf-8\" />\n",
      "    <meta name=\"viewport\" content=\"width=device-width, initial-scale=1\" />\n",
      "    <style type=\"text/css\">\n",
      "    body {\n",
      "        background-color: #f0f0f2;\n",
      "        margin: 0;\n",
      "        padding: 0;\n",
      "        font-family: -apple-system, system-ui, BlinkMacSystemFont, \"Segoe UI\", \"Open Sans\", \"Helvetica Neue\", Helvetica, Arial, sans-serif;\n",
      "        \n",
      "    }\n",
      "    div {\n",
      "        width: 600px;\n",
      "        margin: 5em auto;\n",
      "        padding: 2em;\n",
      "        background-color: #fdfdff;\n",
      "        border-radius: 0.5em;\n",
      "        box-shadow: 2px 3px 7px 2px rgba(0,0,0,0.02);\n",
      "    }\n",
      "    a:link, a:visited {\n",
      "        color: #38488f;\n",
      "        text-decoration: none;\n",
      "    }\n",
      "    @media (max-width: 700px) {\n",
      "        div {\n",
      "            margin: 0 auto;\n",
      "            width: auto;\n",
      "        }\n",
      "    }\n",
      "    </style>    \n",
      "</head>\n",
      "\n",
      "<body>\n",
      "<div>\n",
      "    <h1>Example Domain</h1>\n",
      "    <p>This domain is for use in illustrative examples in documents. You may use this\n",
      "    domain in literature without prior coordination or asking for permission.</p>\n",
      "    <p><a href=\"https://www.iana.org/domains/example\">More information...</a></p>\n",
      "</div>\n",
      "</body>\n",
      "</html>\n",
      "\n"
     ]
    }
   ],
   "source": [
    "import requests\n",
    "#lets you take any web site and display the html also\n",
    "import pandas as pd\n",
    "\n",
    "#variable for the url\n",
    "url = 'http://www.example.com'\n",
    "\n",
    "#requests library/module us ysed to \n",
    "#send all tyoes of http requests\n",
    "req = requests.get(url)\n",
    "print(req.text)"
   ]
  },
  {
   "cell_type": "code",
   "execution_count": 5,
   "id": "bf3d527f",
   "metadata": {},
   "outputs": [
    {
     "name": "stdout",
     "output_type": "stream",
     "text": [
      "{'coord': {'lon': -90.1979, 'lat': 38.6273}, 'weather': [{'id': 804, 'main': 'Clouds', 'description': 'overcast clouds', 'icon': '04d'}], 'base': 'stations', 'main': {'temp': 60.06, 'feels_like': 60.13, 'temp_min': 56.34, 'temp_max': 65.91, 'pressure': 1014, 'humidity': 93}, 'visibility': 10000, 'wind': {'speed': 1.01, 'deg': 292, 'gust': 5.01}, 'clouds': {'all': 90}, 'dt': 1634327033, 'sys': {'type': 2, 'id': 2009674, 'country': 'US', 'sunrise': 1634299801, 'sunset': 1634340157}, 'timezone': -18000, 'id': 4407066, 'name': 'St Louis', 'cod': 200}\n"
     ]
    }
   ],
   "source": [
    "base_url = \"http://api.openweathermap.org/data/2.5/weather?units=Imperial&APPID=\" + api_key\n",
    "city = 'st. louis'\n",
    "\n",
    "#q represents the city for openweathermap.org\n",
    "req = requests.get(base_url + f'&q={city}')\n",
    "\n",
    "#can print base url and paste into brower if needed\n",
    "print(base_url + f'&q={city})\n",
    "      \n",
    "#create a json output of data\n",
    "json_data=req.json()\n",
    "print(json_data)\n",
    "      \n",
    "#prints a dictionary of information"
   ]
  },
  {
   "cell_type": "code",
   "execution_count": 8,
   "id": "ce5b4b63",
   "metadata": {},
   "outputs": [
    {
     "data": {
      "text/plain": [
       "{'temp': 60.06,\n",
       " 'feels_like': 60.13,\n",
       " 'temp_min': 56.34,\n",
       " 'temp_max': 65.91,\n",
       " 'pressure': 1014,\n",
       " 'humidity': 93}"
      ]
     },
     "execution_count": 8,
     "metadata": {},
     "output_type": "execute_result"
    }
   ],
   "source": [
    "main = json_data['main']\n",
    "main\n",
    "#slicing a component of the dictionary"
   ]
  },
  {
   "cell_type": "code",
   "execution_count": 7,
   "id": "4563764b",
   "metadata": {},
   "outputs": [
    {
     "data": {
      "text/plain": [
       "{'lon': -90.1979, 'lat': 38.6273}"
      ]
     },
     "execution_count": 7,
     "metadata": {},
     "output_type": "execute_result"
    }
   ],
   "source": [
    "coord = json_data['coord']\n",
    "coord"
   ]
  },
  {
   "cell_type": "code",
   "execution_count": 11,
   "id": "c3a0e275",
   "metadata": {},
   "outputs": [
    {
     "data": {
      "text/plain": [
       "'overcast clouds'"
      ]
     },
     "execution_count": 11,
     "metadata": {},
     "output_type": "execute_result"
    }
   ],
   "source": [
    "weather_desc = json_data['weather'][0]['description']\n",
    "weather_desc"
   ]
  },
  {
   "cell_type": "code",
   "execution_count": 16,
   "id": "48829306",
   "metadata": {},
   "outputs": [
    {
     "name": "stdout",
     "output_type": "stream",
     "text": [
      "processing denver\n",
      "processing st louis\n",
      "processing phoenix\n"
     ]
    }
   ],
   "source": [
    "#loop through data\n",
    "cities_list = ['denver', 'st louis', 'phoenix']\n",
    "\n",
    "#take a dictionary and convert to a data frame\n",
    "city_weather = {'city':[],\n",
    "               'humidity':[],\n",
    "               'pressure':[]}\n",
    "\n",
    "#loop over cities and add data to dictionary\n",
    "for city in cities_list:\n",
    "    base_url = \"http://api.openweathermap.org/data/2.5/weather?units=Imperial&APPID=\" + api_key\n",
    "    \n",
    "    try:\n",
    "        #request specific information\n",
    "        req = requests.get(base_url + f'&q={city}')\n",
    "        #convert/cast to json for python reading\n",
    "        data = req.json()\n",
    "        #add values to city _weather dictionary\n",
    "        #don't need the numerical value like list above \n",
    "        #because it isn't a list\n",
    "        city_weather['city'].append(data['name'])\n",
    "        city_weather['humidity'].append(data['main']['humidity'])\n",
    "        city_weather['pressure'].append(data['main']['pressure'])\n",
    "        \n",
    "        print(\"processing \" + city)\n",
    "    except:\n",
    "        print(city+ \" not found\")\n",
    "        pass\n",
    "    \n",
    "#try-except in loop creates an out if the loop encounters an error"
   ]
  },
  {
   "cell_type": "code",
   "execution_count": 17,
   "id": "8aff7f6f",
   "metadata": {},
   "outputs": [
    {
     "data": {
      "text/plain": [
       "{'city': ['Denver', 'St Louis', 'Phoenix'],\n",
       " 'humidity': [21, 91, 16],\n",
       " 'pressure': [1023, 1013, 1017]}"
      ]
     },
     "execution_count": 17,
     "metadata": {},
     "output_type": "execute_result"
    }
   ],
   "source": [
    "#show in ditionary form\n",
    "city_weather"
   ]
  },
  {
   "cell_type": "code",
   "execution_count": 21,
   "id": "3b184c9b",
   "metadata": {},
   "outputs": [
    {
     "data": {
      "text/html": [
       "<div>\n",
       "<style scoped>\n",
       "    .dataframe tbody tr th:only-of-type {\n",
       "        vertical-align: middle;\n",
       "    }\n",
       "\n",
       "    .dataframe tbody tr th {\n",
       "        vertical-align: top;\n",
       "    }\n",
       "\n",
       "    .dataframe thead th {\n",
       "        text-align: right;\n",
       "    }\n",
       "</style>\n",
       "<table border=\"1\" class=\"dataframe\">\n",
       "  <thead>\n",
       "    <tr style=\"text-align: right;\">\n",
       "      <th></th>\n",
       "      <th>city</th>\n",
       "      <th>humidity</th>\n",
       "      <th>pressure</th>\n",
       "    </tr>\n",
       "  </thead>\n",
       "  <tbody>\n",
       "    <tr>\n",
       "      <th>0</th>\n",
       "      <td>Denver</td>\n",
       "      <td>21</td>\n",
       "      <td>1023</td>\n",
       "    </tr>\n",
       "    <tr>\n",
       "      <th>1</th>\n",
       "      <td>St Louis</td>\n",
       "      <td>91</td>\n",
       "      <td>1013</td>\n",
       "    </tr>\n",
       "    <tr>\n",
       "      <th>2</th>\n",
       "      <td>Phoenix</td>\n",
       "      <td>16</td>\n",
       "      <td>1017</td>\n",
       "    </tr>\n",
       "  </tbody>\n",
       "</table>\n",
       "</div>"
      ],
      "text/plain": [
       "       city  humidity  pressure\n",
       "0    Denver        21      1023\n",
       "1  St Louis        91      1013\n",
       "2   Phoenix        16      1017"
      ]
     },
     "execution_count": 21,
     "metadata": {},
     "output_type": "execute_result"
    }
   ],
   "source": [
    "#convert to dataframe with .from_dict function\n",
    "weather_df = pd.DataFrame.from_dict(city_weather)\n",
    "weather_df"
   ]
  },
  {
   "cell_type": "code",
   "execution_count": null,
   "id": "34f11867",
   "metadata": {},
   "outputs": [],
   "source": []
  }
 ],
 "metadata": {
  "kernelspec": {
   "display_name": "Python 3 (ipykernel)",
   "language": "python",
   "name": "python3"
  },
  "language_info": {
   "codemirror_mode": {
    "name": "ipython",
    "version": 3
   },
   "file_extension": ".py",
   "mimetype": "text/x-python",
   "name": "python",
   "nbconvert_exporter": "python",
   "pygments_lexer": "ipython3",
   "version": "3.9.7"
  }
 },
 "nbformat": 4,
 "nbformat_minor": 5
}
